{
 "cells": [
  {
   "cell_type": "code",
   "execution_count": 1,
   "metadata": {},
   "outputs": [],
   "source": [
    "import pandas as pd\n",
    "from fitter import Fitter, get_common_distributions\n",
    "import numpy as np\n",
    "import matplotlib.pyplot as plt\n",
    "import matplotlib.dates as mdates\n",
    "from datetime import datetime"
   ]
  },
  {
   "cell_type": "markdown",
   "metadata": {},
   "source": [
    "# Data Exploration (restaurant 1)\n"
   ]
  },
  {
   "cell_type": "code",
   "execution_count": 90,
   "metadata": {},
   "outputs": [
    {
     "data": {
      "text/html": [
       "<div>\n",
       "<style scoped>\n",
       "    .dataframe tbody tr th:only-of-type {\n",
       "        vertical-align: middle;\n",
       "    }\n",
       "\n",
       "    .dataframe tbody tr th {\n",
       "        vertical-align: top;\n",
       "    }\n",
       "\n",
       "    .dataframe thead th {\n",
       "        text-align: right;\n",
       "    }\n",
       "</style>\n",
       "<table border=\"1\" class=\"dataframe\">\n",
       "  <thead>\n",
       "    <tr style=\"text-align: right;\">\n",
       "      <th></th>\n",
       "      <th>Order Number</th>\n",
       "      <th>Order Date</th>\n",
       "      <th>Item Name</th>\n",
       "      <th>Quantity</th>\n",
       "      <th>Product Price</th>\n",
       "      <th>Total products</th>\n",
       "    </tr>\n",
       "  </thead>\n",
       "  <tbody>\n",
       "    <tr>\n",
       "      <th>0</th>\n",
       "      <td>16118</td>\n",
       "      <td>03/08/2019 20:25</td>\n",
       "      <td>Plain Papadum</td>\n",
       "      <td>2</td>\n",
       "      <td>0.80</td>\n",
       "      <td>6</td>\n",
       "    </tr>\n",
       "    <tr>\n",
       "      <th>1</th>\n",
       "      <td>16118</td>\n",
       "      <td>03/08/2019 20:25</td>\n",
       "      <td>King Prawn Balti</td>\n",
       "      <td>1</td>\n",
       "      <td>12.95</td>\n",
       "      <td>6</td>\n",
       "    </tr>\n",
       "    <tr>\n",
       "      <th>2</th>\n",
       "      <td>16118</td>\n",
       "      <td>03/08/2019 20:25</td>\n",
       "      <td>Garlic Naan</td>\n",
       "      <td>1</td>\n",
       "      <td>2.95</td>\n",
       "      <td>6</td>\n",
       "    </tr>\n",
       "    <tr>\n",
       "      <th>3</th>\n",
       "      <td>16118</td>\n",
       "      <td>03/08/2019 20:25</td>\n",
       "      <td>Mushroom Rice</td>\n",
       "      <td>1</td>\n",
       "      <td>3.95</td>\n",
       "      <td>6</td>\n",
       "    </tr>\n",
       "    <tr>\n",
       "      <th>4</th>\n",
       "      <td>16118</td>\n",
       "      <td>03/08/2019 20:25</td>\n",
       "      <td>Paneer Tikka Masala</td>\n",
       "      <td>1</td>\n",
       "      <td>8.95</td>\n",
       "      <td>6</td>\n",
       "    </tr>\n",
       "    <tr>\n",
       "      <th>5</th>\n",
       "      <td>16118</td>\n",
       "      <td>03/08/2019 20:25</td>\n",
       "      <td>Mango Chutney</td>\n",
       "      <td>1</td>\n",
       "      <td>0.50</td>\n",
       "      <td>6</td>\n",
       "    </tr>\n",
       "    <tr>\n",
       "      <th>6</th>\n",
       "      <td>16117</td>\n",
       "      <td>03/08/2019 20:17</td>\n",
       "      <td>Plain Naan</td>\n",
       "      <td>1</td>\n",
       "      <td>2.60</td>\n",
       "      <td>7</td>\n",
       "    </tr>\n",
       "    <tr>\n",
       "      <th>7</th>\n",
       "      <td>16117</td>\n",
       "      <td>03/08/2019 20:17</td>\n",
       "      <td>Mushroom Rice</td>\n",
       "      <td>1</td>\n",
       "      <td>3.95</td>\n",
       "      <td>7</td>\n",
       "    </tr>\n",
       "    <tr>\n",
       "      <th>8</th>\n",
       "      <td>16117</td>\n",
       "      <td>03/08/2019 20:17</td>\n",
       "      <td>Tandoori Chicken (1/4)</td>\n",
       "      <td>1</td>\n",
       "      <td>4.95</td>\n",
       "      <td>7</td>\n",
       "    </tr>\n",
       "    <tr>\n",
       "      <th>9</th>\n",
       "      <td>16117</td>\n",
       "      <td>03/08/2019 20:17</td>\n",
       "      <td>Vindaloo - Lamb</td>\n",
       "      <td>1</td>\n",
       "      <td>7.95</td>\n",
       "      <td>7</td>\n",
       "    </tr>\n",
       "  </tbody>\n",
       "</table>\n",
       "</div>"
      ],
      "text/plain": [
       "   Order Number        Order Date               Item Name  Quantity  \\\n",
       "0         16118  03/08/2019 20:25           Plain Papadum         2   \n",
       "1         16118  03/08/2019 20:25        King Prawn Balti         1   \n",
       "2         16118  03/08/2019 20:25             Garlic Naan         1   \n",
       "3         16118  03/08/2019 20:25           Mushroom Rice         1   \n",
       "4         16118  03/08/2019 20:25     Paneer Tikka Masala         1   \n",
       "5         16118  03/08/2019 20:25           Mango Chutney         1   \n",
       "6         16117  03/08/2019 20:17              Plain Naan         1   \n",
       "7         16117  03/08/2019 20:17           Mushroom Rice         1   \n",
       "8         16117  03/08/2019 20:17  Tandoori Chicken (1/4)         1   \n",
       "9         16117  03/08/2019 20:17         Vindaloo - Lamb         1   \n",
       "\n",
       "   Product Price  Total products  \n",
       "0           0.80               6  \n",
       "1          12.95               6  \n",
       "2           2.95               6  \n",
       "3           3.95               6  \n",
       "4           8.95               6  \n",
       "5           0.50               6  \n",
       "6           2.60               7  \n",
       "7           3.95               7  \n",
       "8           4.95               7  \n",
       "9           7.95               7  "
      ]
     },
     "execution_count": 90,
     "metadata": {},
     "output_type": "execute_result"
    }
   ],
   "source": [
    "order_df_raw = pd.read_csv('restaurant-1-orders.csv')\n",
    "order_df_raw.head(10)\n",
    "# order_df_raw.tail()\n",
    "# order_df_raw.shape\n",
    "# order_df_raw.columns\n",
    "# order_df_raw['Restaurant ID'].unique()\n",
    "# order_df_raw['Order Date'].unique()"
   ]
  },
  {
   "cell_type": "markdown",
   "metadata": {},
   "source": [
    "## Check for shifts (check out the time distribution of orders)"
   ]
  },
  {
   "cell_type": "code",
   "execution_count": 67,
   "metadata": {},
   "outputs": [
    {
     "data": {
      "text/plain": [
       "array([2025, 2025, 2025, ..., 1318, 1904, 1729], dtype=int64)"
      ]
     },
     "execution_count": 67,
     "metadata": {},
     "output_type": "execute_result"
    }
   ],
   "source": [
    "# Convert \"Order Date\" column to 24-hour integer format and get array\n",
    "\n",
    "def time_to_integer(time_str):\n",
    "    time = datetime.strptime(time_str, \"%d/%m/%Y %H:%M\").time()\n",
    "    return int(time.hour * 100 + time.minute)\n",
    "\n",
    "order_date_arr = order_df_raw['Order Date'].apply(time_to_integer).to_numpy()\n",
    "order_date_arr"
   ]
  },
  {
   "cell_type": "code",
   "execution_count": 78,
   "metadata": {},
   "outputs": [
    {
     "data": {
      "text/plain": [
       "(array([5.000e+00, 6.000e+00, 2.400e+01, 0.000e+00, 0.000e+00, 8.000e+00,\n",
       "        3.000e+00, 0.000e+00, 1.600e+01, 1.200e+01, 3.000e+00, 0.000e+00,\n",
       "        0.000e+00, 2.000e+00, 0.000e+00, 0.000e+00, 0.000e+00, 0.000e+00,\n",
       "        6.000e+00, 4.000e+00, 0.000e+00, 4.000e+00, 4.000e+00, 0.000e+00,\n",
       "        0.000e+00, 0.000e+00, 1.600e+01, 0.000e+00, 0.000e+00, 0.000e+00,\n",
       "        0.000e+00, 0.000e+00, 0.000e+00, 0.000e+00, 9.000e+00, 7.000e+00,\n",
       "        3.500e+01, 0.000e+00, 0.000e+00, 5.000e+00, 3.900e+01, 3.100e+01,\n",
       "        0.000e+00, 2.800e+01, 5.200e+01, 8.200e+01, 0.000e+00, 8.000e+00,\n",
       "        1.920e+02, 2.460e+02, 7.200e+01, 1.600e+01, 5.300e+02, 5.510e+02,\n",
       "        3.230e+02, 0.000e+00, 4.370e+02, 4.270e+02, 3.660e+02, 0.000e+00,\n",
       "        6.500e+01, 2.240e+02, 1.740e+02, 4.400e+01, 1.800e+01, 1.730e+02,\n",
       "        2.400e+02, 1.420e+02, 0.000e+00, 2.670e+02, 7.320e+02, 1.335e+03,\n",
       "        0.000e+00, 8.800e+02, 3.813e+03, 6.181e+03, 1.486e+03, 2.610e+02,\n",
       "        8.228e+03, 8.661e+03, 5.281e+03, 0.000e+00, 5.690e+03, 7.909e+03,\n",
       "        5.260e+03, 0.000e+00, 1.820e+03, 3.712e+03, 2.689e+03, 3.640e+02,\n",
       "        8.900e+01, 1.684e+03, 1.451e+03, 5.800e+02, 0.000e+00, 6.000e+02,\n",
       "        6.780e+02, 4.600e+02, 0.000e+00, 5.800e+01]),\n",
       " array([2.00000e+00, 2.50600e+01, 4.81200e+01, 7.11800e+01, 9.42400e+01,\n",
       "        1.17300e+02, 1.40360e+02, 1.63420e+02, 1.86480e+02, 2.09540e+02,\n",
       "        2.32600e+02, 2.55660e+02, 2.78720e+02, 3.01780e+02, 3.24840e+02,\n",
       "        3.47900e+02, 3.70960e+02, 3.94020e+02, 4.17080e+02, 4.40140e+02,\n",
       "        4.63200e+02, 4.86260e+02, 5.09320e+02, 5.32380e+02, 5.55440e+02,\n",
       "        5.78500e+02, 6.01560e+02, 6.24620e+02, 6.47680e+02, 6.70740e+02,\n",
       "        6.93800e+02, 7.16860e+02, 7.39920e+02, 7.62980e+02, 7.86040e+02,\n",
       "        8.09100e+02, 8.32160e+02, 8.55220e+02, 8.78280e+02, 9.01340e+02,\n",
       "        9.24400e+02, 9.47460e+02, 9.70520e+02, 9.93580e+02, 1.01664e+03,\n",
       "        1.03970e+03, 1.06276e+03, 1.08582e+03, 1.10888e+03, 1.13194e+03,\n",
       "        1.15500e+03, 1.17806e+03, 1.20112e+03, 1.22418e+03, 1.24724e+03,\n",
       "        1.27030e+03, 1.29336e+03, 1.31642e+03, 1.33948e+03, 1.36254e+03,\n",
       "        1.38560e+03, 1.40866e+03, 1.43172e+03, 1.45478e+03, 1.47784e+03,\n",
       "        1.50090e+03, 1.52396e+03, 1.54702e+03, 1.57008e+03, 1.59314e+03,\n",
       "        1.61620e+03, 1.63926e+03, 1.66232e+03, 1.68538e+03, 1.70844e+03,\n",
       "        1.73150e+03, 1.75456e+03, 1.77762e+03, 1.80068e+03, 1.82374e+03,\n",
       "        1.84680e+03, 1.86986e+03, 1.89292e+03, 1.91598e+03, 1.93904e+03,\n",
       "        1.96210e+03, 1.98516e+03, 2.00822e+03, 2.03128e+03, 2.05434e+03,\n",
       "        2.07740e+03, 2.10046e+03, 2.12352e+03, 2.14658e+03, 2.16964e+03,\n",
       "        2.19270e+03, 2.21576e+03, 2.23882e+03, 2.26188e+03, 2.28494e+03,\n",
       "        2.30800e+03]),\n",
       " <BarContainer object of 100 artists>)"
      ]
     },
     "execution_count": 78,
     "metadata": {},
     "output_type": "execute_result"
    },
    {
     "data": {
      "image/png": "[encoded data removed]",
      "text/plain": [
       "<Figure size 640x480 with 1 Axes>"
      ]
     },
     "metadata": {},
     "output_type": "display_data"
    }
   ],
   "source": [
    "plt.hist(order_date_arr, bins=100)"
   ]
  },
  {
   "cell_type": "markdown",
   "metadata": {},
   "source": [
    "Insights:\n",
    "1. Unclear shifts in a day\n",
    "2. Interval between orders (large intervals) from different shifts in a day(if exists) would not be impactful -> each day can be considered as one shift -> Intervals between orders from different days should not be considered."
   ]
  },
  {
   "cell_type": "markdown",
   "metadata": {},
   "source": [
    "## Check if there is more than 1 server (same order date different order number)."
   ]
  },
  {
   "cell_type": "code",
   "execution_count": 38,
   "metadata": {},
   "outputs": [
    {
     "data": {
      "text/plain": [
       "Order Date\n",
       "01/01/2017 17:31    1\n",
       "01/01/2017 17:38    1\n",
       "01/01/2017 17:51    1\n",
       "01/01/2017 18:20    1\n",
       "01/01/2017 18:28    1\n",
       "                   ..\n",
       "31/12/2018 19:37    1\n",
       "31/12/2018 20:14    1\n",
       "31/12/2018 20:54    1\n",
       "31/12/2018 21:13    1\n",
       "31/12/2018 21:56    1\n",
       "Name: Order Number, Length: 13081, dtype: int64"
      ]
     },
     "execution_count": 38,
     "metadata": {},
     "output_type": "execute_result"
    }
   ],
   "source": [
    "# number of unique 'Order Number' for each 'Order Date'\n",
    "grouped = order_df_raw.groupby('Order Date')['Order Number'].nunique()\n",
    "grouped"
   ]
  },
  {
   "cell_type": "code",
   "execution_count": 69,
   "metadata": {},
   "outputs": [
    {
     "data": {
      "text/plain": [
       "3"
      ]
     },
     "execution_count": 69,
     "metadata": {},
     "output_type": "execute_result"
    }
   ],
   "source": [
    "# maximum number of unique 'Order Number' for an 'Order Date'\n",
    "max_unique = max(grouped)\n",
    "max_unique"
   ]
  },
  {
   "cell_type": "code",
   "execution_count": 76,
   "metadata": {},
   "outputs": [
    {
     "data": {
      "text/plain": [
       "(array([  2.,   0.,   2.,   0.,   2.,  22.,  98., 125.,  50.,   8.]),\n",
       " array([1131. , 1231.5, 1332. , 1432.5, 1533. , 1633.5, 1734. , 1834.5,\n",
       "        1935. , 2035.5, 2136. ]),\n",
       " <BarContainer object of 10 artists>)"
      ]
     },
     "execution_count": 76,
     "metadata": {},
     "output_type": "execute_result"
    },
    {
     "data": {
      "image/png": "[encoded data removed]",
      "text/plain": [
       "<Figure size 640x480 with 1 Axes>"
      ]
     },
     "metadata": {},
     "output_type": "display_data"
    }
   ],
   "source": [
    "# 'Order Date' distribution with more than 1 unique 'Order Number'\n",
    "above1arr = []\n",
    "for item in grouped.items():\n",
    "    if item[1] > 1:\n",
    "        above1arr.append(time_to_integer(item[0]))\n",
    "\n",
    "plt.hist(above1arr)"
   ]
  },
  {
   "cell_type": "code",
   "execution_count": 75,
   "metadata": {},
   "outputs": [
    {
     "data": {
      "text/plain": [
       "[2001, 1708, 1902, 1922, 1853, 1902, 1646]"
      ]
     },
     "execution_count": 75,
     "metadata": {},
     "output_type": "execute_result"
    },
    {
     "data": {
      "image/png": "[encoded data removed]",
      "text/plain": [
       "<Figure size 640x480 with 1 Axes>"
      ]
     },
     "metadata": {},
     "output_type": "display_data"
    }
   ],
   "source": [
    "# 'Order Date' distribution with max_unique unique 'Order Number'\n",
    "above1arr = []\n",
    "for item in grouped.items():\n",
    "    if item[1] == max_unique:\n",
    "        above1arr.append(time_to_integer(item[0]))\n",
    "\n",
    "plt.hist(above1arr)\n",
    "above1arr"
   ]
  },
  {
   "cell_type": "markdown",
   "metadata": {},
   "source": [
    "Insights:\n",
    "1. Restaurant 1 is able to handle at least 3 requests at a single time (assuming no machinery faults)."
   ]
  },
  {
   "cell_type": "markdown",
   "metadata": {},
   "source": [
    "## Explore the distribution of intervals between orders"
   ]
  },
  {
   "cell_type": "code",
   "execution_count": 93,
   "metadata": {},
   "outputs": [
    {
     "name": "stderr",
     "output_type": "stream",
     "text": [
      "C:\\Users\\zzyy\\AppData\\Local\\Temp\\ipykernel_11512\\3727675906.py:3: SettingWithCopyWarning: \n",
      "A value is trying to be set on a copy of a slice from a DataFrame.\n",
      "Try using .loc[row_indexer,col_indexer] = value instead\n",
      "\n",
      "See the caveats in the documentation: https://pandas.pydata.org/pandas-docs/stable/user_guide/indexing.html#returning-a-view-versus-a-copy\n",
      "  order_date_df['Order Date'] = order_date_df['Order Date'].apply(lambda x: datetime.strptime(x, \"%d/%m/%Y %H:%M\"))\n",
      "C:\\Users\\zzyy\\AppData\\Local\\Temp\\ipykernel_11512\\3727675906.py:4: SettingWithCopyWarning: \n",
      "A value is trying to be set on a copy of a slice from a DataFrame.\n",
      "Try using .loc[row_indexer,col_indexer] = value instead\n",
      "\n",
      "See the caveats in the documentation: https://pandas.pydata.org/pandas-docs/stable/user_guide/indexing.html#returning-a-view-versus-a-copy\n",
      "  order_date_df['date'] = order_date_df['Order Date'].apply(lambda x: x.date())\n"
     ]
    }
   ],
   "source": [
    "# split 'Order Date' by date\n",
    "\n",
    "order_date_df = order_df_raw[['Order Date']]\n",
    "# convert 'Order Date' to date\n",
    "order_date_df['Order Date'] = order_date_df['Order Date'].apply(lambda x: datetime.strptime(x, \"%d/%m/%Y %H:%M\"))\n",
    "# add 'date' column\n",
    "order_date_df['date'] = order_date_df['Order Date'].apply(lambda x: x.date())\n",
    "order_date_series_by_date = order_date_df.groupby('date')['Order Date'].apply(lambda x: np.unique(np.array(x)))\n",
    "order_date_dict_by_date = order_date_series_by_date.to_dict()"
   ]
  },
  {
   "cell_type": "code",
   "execution_count": 94,
   "metadata": {},
   "outputs": [],
   "source": [
    "# get intervals for each day\n",
    "\n",
    "intervals_dict_by_date = {}\n",
    "for k, v in order_date_dict_by_date.items():\n",
    "    intervals_dict_by_date[k] = ((v[1:] - v[:-1]) / (1000000000*60)).astype('float64')"
   ]
  },
  {
   "cell_type": "code",
   "execution_count": 97,
   "metadata": {},
   "outputs": [],
   "source": [
    "# merge all intervals\n",
    "\n",
    "intervals_merged_list = []\n",
    "for k, v in intervals_dict_by_date.items():\n",
    "    intervals_merged_list.extend(v)"
   ]
  },
  {
   "cell_type": "code",
   "execution_count": 98,
   "metadata": {},
   "outputs": [
    {
     "data": {
      "text/plain": [
       "(array([1.1005e+04, 4.9800e+02, 2.3000e+02, 1.1000e+02, 1.0000e+01,\n",
       "        4.0000e+00, 2.0000e+00, 5.0000e+00, 4.0000e+00, 6.0000e+00]),\n",
       " array([1.000e+00, 1.056e+02, 2.102e+02, 3.148e+02, 4.194e+02, 5.240e+02,\n",
       "        6.286e+02, 7.332e+02, 8.378e+02, 9.424e+02, 1.047e+03]),\n",
       " <BarContainer object of 10 artists>)"
      ]
     },
     "execution_count": 98,
     "metadata": {},
     "output_type": "execute_result"
    },
    {
     "data": {
      "image/png": "[encoded data removed]",
      "text/plain": [
       "<Figure size 640x480 with 1 Axes>"
      ]
     },
     "metadata": {},
     "output_type": "display_data"
    }
   ],
   "source": [
    "plt.hist(intervals_merged_list)"
   ]
  },
  {
   "cell_type": "code",
   "execution_count": 99,
   "metadata": {},
   "outputs": [
    {
     "name": "stdout",
     "output_type": "stream",
     "text": [
      "{'lognorm': {'s': 1.4738752714840349, 'loc': 0.5072848265329463, 'scale': 13.427557349367415}}\n"
     ]
    },
    {
     "data": {
      "image/png": "[encoded data removed]",
      "text/plain": [
       "<Figure size 640x480 with 1 Axes>"
      ]
     },
     "metadata": {},
     "output_type": "display_data"
    }
   ],
   "source": [
    "f = Fitter(intervals_merged_list, distributions=get_common_distributions())\n",
    "f.fit()\n",
    "f.summary()\n",
    "print(f.get_best(method=\"sumsquare_error\"))\n"
   ]
  }
 ],
 "metadata": {
  "kernelspec": {
   "display_name": "Python 3.10.6 64-bit",
   "language": "python",
   "name": "python3"
  },
  "language_info": {
   "codemirror_mode": {
    "name": "ipython",
    "version": 3
   },
   "file_extension": ".py",
   "mimetype": "text/x-python",
   "name": "python",
   "nbconvert_exporter": "python",
   "pygments_lexer": "ipython3",
   "version": "3.10.6"
  },
  "orig_nbformat": 4,
  "vscode": {
   "interpreter": {
    "hash": "b9385ce994ad4aa44cc985a78a3caa2e243ec7c1b834bd3c76e8faa30c8ff2f6"
   }
  }
 },
 "nbformat": 4,
 "nbformat_minor": 2
}
